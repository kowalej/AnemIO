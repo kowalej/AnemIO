{
 "cells": [
  {
   "cell_type": "code",
   "execution_count": 1,
   "metadata": {},
   "outputs": [],
   "source": [
    "from datetime import datetime, timedelta\n",
    "import pandas as pd\n",
    "from station.constants import REPORT_INSTANT_TIME_MS\n",
    "from station.weatherreport import WeatherReport\n",
    "import os\n",
    "os.environ[\"DJANGO_ALLOW_ASYNC_UNSAFE\"] = \"true\""
   ]
  },
  {
   "cell_type": "code",
   "execution_count": 2,
   "metadata": {},
   "outputs": [],
   "source": [
    "pd.set_option('display.max_columns', 50)  # or 1000\n",
    "pd.set_option('display.max_rows', 100)  # or 1000\n",
    "pd.set_option('display.max_colwidth', None)  # or 199"
   ]
  },
  {
   "cell_type": "code",
   "execution_count": 13,
   "metadata": {},
   "outputs": [],
   "source": [
    "wr = WeatherReport(datetime.now(timezone.utc) - timedelta(days=40), datetime.now(timezone.utc) - timedelta(days=39))"
   ]
  },
  {
   "cell_type": "code",
   "execution_count": 14,
   "metadata": {},
   "outputs": [
    {
     "data": {
      "text/plain": [
       "x    float64\n",
       "y    float64\n",
       "z    float64\n",
       "dtype: object"
      ]
     },
     "execution_count": 14,
     "metadata": {},
     "output_type": "execute_result"
    }
   ],
   "source": [
    "wr.df_AccelerometerXyz.dtypes"
   ]
  },
  {
   "cell_type": "code",
   "execution_count": 22,
   "metadata": {},
   "outputs": [
    {
     "data": {
      "text/html": [
       "<div>\n",
       "<style scoped>\n",
       "    .dataframe tbody tr th:only-of-type {\n",
       "        vertical-align: middle;\n",
       "    }\n",
       "\n",
       "    .dataframe tbody tr th {\n",
       "        vertical-align: top;\n",
       "    }\n",
       "\n",
       "    .dataframe thead th {\n",
       "        text-align: right;\n",
       "    }\n",
       "</style>\n",
       "<table border=\"1\" class=\"dataframe\">\n",
       "  <thead>\n",
       "    <tr style=\"text-align: right;\">\n",
       "      <th></th>\n",
       "      <th>value</th>\n",
       "    </tr>\n",
       "    <tr>\n",
       "      <th>timestamp</th>\n",
       "      <th></th>\n",
       "    </tr>\n",
       "  </thead>\n",
       "  <tbody>\n",
       "    <tr>\n",
       "      <th>2020-04-25 04:26:50.941000+00:00</th>\n",
       "      <td>775.30</td>\n",
       "    </tr>\n",
       "    <tr>\n",
       "      <th>2020-04-25 04:26:51.954000+00:00</th>\n",
       "      <td>775.28</td>\n",
       "    </tr>\n",
       "    <tr>\n",
       "      <th>2020-04-25 04:26:52.964000+00:00</th>\n",
       "      <td>778.44</td>\n",
       "    </tr>\n",
       "    <tr>\n",
       "      <th>2020-04-25 04:26:53.981000+00:00</th>\n",
       "      <td>778.02</td>\n",
       "    </tr>\n",
       "    <tr>\n",
       "      <th>2020-04-25 04:27:11.451000+00:00</th>\n",
       "      <td>775.18</td>\n",
       "    </tr>\n",
       "    <tr>\n",
       "      <th>...</th>\n",
       "      <td>...</td>\n",
       "    </tr>\n",
       "    <tr>\n",
       "      <th>2020-04-26 04:26:17.263000+00:00</th>\n",
       "      <td>780.88</td>\n",
       "    </tr>\n",
       "    <tr>\n",
       "      <th>2020-04-26 04:26:35.026000+00:00</th>\n",
       "      <td>775.98</td>\n",
       "    </tr>\n",
       "    <tr>\n",
       "      <th>2020-04-26 04:26:36.040000+00:00</th>\n",
       "      <td>778.34</td>\n",
       "    </tr>\n",
       "    <tr>\n",
       "      <th>2020-04-26 04:26:37.052000+00:00</th>\n",
       "      <td>779.60</td>\n",
       "    </tr>\n",
       "    <tr>\n",
       "      <th>2020-04-26 04:26:38.069000+00:00</th>\n",
       "      <td>777.42</td>\n",
       "    </tr>\n",
       "  </tbody>\n",
       "</table>\n",
       "<p>17901 rows × 1 columns</p>\n",
       "</div>"
      ],
      "text/plain": [
       "                                   value\n",
       "timestamp                               \n",
       "2020-04-25 04:26:50.941000+00:00  775.30\n",
       "2020-04-25 04:26:51.954000+00:00  775.28\n",
       "2020-04-25 04:26:52.964000+00:00  778.44\n",
       "2020-04-25 04:26:53.981000+00:00  778.02\n",
       "2020-04-25 04:27:11.451000+00:00  775.18\n",
       "...                                  ...\n",
       "2020-04-26 04:26:17.263000+00:00  780.88\n",
       "2020-04-26 04:26:35.026000+00:00  775.98\n",
       "2020-04-26 04:26:36.040000+00:00  778.34\n",
       "2020-04-26 04:26:37.052000+00:00  779.60\n",
       "2020-04-26 04:26:38.069000+00:00  777.42\n",
       "\n",
       "[17901 rows x 1 columns]"
      ]
     },
     "execution_count": 22,
     "metadata": {},
     "output_type": "execute_result"
    }
   ],
   "source": [
    "wr.df_AmbientLightValues"
   ]
  },
  {
   "cell_type": "code",
   "execution_count": 35,
   "metadata": {},
   "outputs": [],
   "source": [
    "acav_df_AmbientLightValues = wr.df_AmbientLightValues.resample('15S').min()"
   ]
  }
 ],
 "metadata": {
  "kernelspec": {
   "display_name": "Django Shell-Plus",
   "language": "python",
   "name": "django_extensions"
  },
  "language_info": {
   "codemirror_mode": {
    "name": "ipython",
    "version": 3
   },
   "file_extension": ".py",
   "mimetype": "text/x-python",
   "name": "python",
   "nbconvert_exporter": "python",
   "pygments_lexer": "ipython3",
   "version": "3.7.7"
  }
 },
 "nbformat": 4,
 "nbformat_minor": 2
}
