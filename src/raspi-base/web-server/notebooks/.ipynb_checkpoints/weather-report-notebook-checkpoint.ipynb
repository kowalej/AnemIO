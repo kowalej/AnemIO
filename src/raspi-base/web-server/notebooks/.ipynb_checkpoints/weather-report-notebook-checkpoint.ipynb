{
 "cells": [
  {
   "cell_type": "code",
   "execution_count": 95,
   "metadata": {},
   "outputs": [],
   "source": [
    "from datetime import datetime, timedelta\n",
    "import station.models as models\n",
    "import pandas as pd\n",
    "from station.constants import REPORT_INSTANT_TIME_MS\n",
    "import os\n",
    "os.environ[\"DJANGO_ALLOW_ASYNC_UNSAFE\"] = \"true\""
   ]
  },
  {
   "cell_type": "code",
   "execution_count": 96,
   "metadata": {},
   "outputs": [],
   "source": [
    "def get_num_periods(period, date_time_detla: timedelta):\n",
    "    if period == 'i':\n",
    "        return date_time_detla.total_seconds // (RADIO_SEND_INTERVAL_MS / 1000)\n",
    "    elif period == 'm':\n",
    "        return date_time_detla.total_seconds // 60\n",
    "    elif period == 'h':\n",
    "        return date_time_detla.total_seconds // (60*60)\n",
    "    elif period == 'd':\n",
    "        return date_time_detla.days\n",
    "    elif period == 'w':\n",
    "        return date_time_detla.days // 7\n",
    "\n",
    "\n",
    "class WeatherReport():\n",
    "    # Generate a report from start_date_time to end_date_time, with precision (timestep) of given period.\n",
    "    # Period can be one of 'i', 'm', 'h', 'd', 'w', 'M'. Instant, minute, hour, day, week, month.\n",
    "    # Instant means the smallest possible timestep (basically how often does the station send data, ~5 seconds).\n",
    "    # For example if you input 01-01-2019 as start_date_time and 12-31-2019 with period as 'd', you will\n",
    "    # recieve a series of daily values included highs, lows, and averages for various metrics for all of 2019.\n",
    "    # Note that exact calendar dates are not considered, meaning that (for example) if your start_date_time\n",
    "    # begins in the middle of a real calendar week, the measure of one week will start at that exact date time\n",
    "    # and jump to the middle of the next real calendar week (i.e. increment 7 days from your start_date_time).\n",
    "    def __init__(self, start_date_time: datetime, end_date_time: datetime, period='i'):\n",
    "        self.end_date_time = end_date_time\n",
    "        self.start_date_time = start_date_time\n",
    "        self.period = period\n",
    "        self.date_delta = end_date_time - start_date_time\n",
    "\n",
    "        if period in ['i', 'm', 'h']:\n",
    "            self.calc_from_raw()\n",
    "        elif period in ['d', 'w', 'm']:\n",
    "            self.calc_from_aggregate()\n",
    "        else:\n",
    "            raise Exception('Unsupported period: please use one of i, m, h, d, w, M.')\n",
    "\n",
    "    def calc_from_raw(self):\n",
    "        self.df_accelerometerXyz = pd.DataFrame(\n",
    "            list(\n",
    "                models.AccelerometerXyz\n",
    "                .objects\n",
    "                .filter(timestamp__gte=self.start_date_time)\n",
    "                .filter(timestamp__lte=self.end_date_time)\n",
    "                .values()\n",
    "            )\n",
    "        )\n",
    "        #self.df_accelerometerXyz.reindex(index='timestamp')"
   ]
  },
  {
   "cell_type": "code",
   "execution_count": 98,
   "metadata": {},
   "outputs": [],
   "source": [
    "wr = WeatherReport(datetime.now(timezone.utc) - timedelta(days=1), datetime.now(timezone.utc) + timedelta(days=1))"
   ]
  },
  {
   "cell_type": "code",
   "execution_count": 99,
   "metadata": {},
   "outputs": [
    {
     "data": {
      "text/plain": [
       "ROWID                      int64\n",
       "timestamp    datetime64[ns, UTC]\n",
       "x                        float64\n",
       "y                        float64\n",
       "z                        float64\n",
       "dtype: object"
      ]
     },
     "execution_count": 99,
     "metadata": {},
     "output_type": "execute_result"
    }
   ],
   "source": [
    "wr.df_accelerometerXyz.dtypes"
   ]
  },
  {
   "cell_type": "code",
   "execution_count": 100,
   "metadata": {},
   "outputs": [
    {
     "data": {
      "text/html": [
       "<div>\n",
       "<style scoped>\n",
       "    .dataframe tbody tr th:only-of-type {\n",
       "        vertical-align: middle;\n",
       "    }\n",
       "\n",
       "    .dataframe tbody tr th {\n",
       "        vertical-align: top;\n",
       "    }\n",
       "\n",
       "    .dataframe thead th {\n",
       "        text-align: right;\n",
       "    }\n",
       "</style>\n",
       "<table border=\"1\" class=\"dataframe\">\n",
       "  <thead>\n",
       "    <tr style=\"text-align: right;\">\n",
       "      <th></th>\n",
       "      <th>x</th>\n",
       "      <th>y</th>\n",
       "      <th>z</th>\n",
       "    </tr>\n",
       "    <tr>\n",
       "      <th>timestamp</th>\n",
       "      <th></th>\n",
       "      <th></th>\n",
       "      <th></th>\n",
       "    </tr>\n",
       "  </thead>\n",
       "  <tbody>\n",
       "    <tr>\n",
       "      <th>2020-04-25 19:31:44.707000+00:00</th>\n",
       "      <td>-0.78</td>\n",
       "      <td>0.04</td>\n",
       "      <td>-9.41</td>\n",
       "    </tr>\n",
       "    <tr>\n",
       "      <th>2020-04-25 19:31:45.241000+00:00</th>\n",
       "      <td>-0.67</td>\n",
       "      <td>0.08</td>\n",
       "      <td>-9.34</td>\n",
       "    </tr>\n",
       "    <tr>\n",
       "      <th>2020-04-25 19:31:45.763000+00:00</th>\n",
       "      <td>-0.75</td>\n",
       "      <td>0.12</td>\n",
       "      <td>-9.34</td>\n",
       "    </tr>\n",
       "    <tr>\n",
       "      <th>2020-04-25 19:31:46.298000+00:00</th>\n",
       "      <td>-0.75</td>\n",
       "      <td>0.08</td>\n",
       "      <td>-9.38</td>\n",
       "    </tr>\n",
       "    <tr>\n",
       "      <th>2020-04-25 19:31:46.820000+00:00</th>\n",
       "      <td>-0.71</td>\n",
       "      <td>0.12</td>\n",
       "      <td>-9.30</td>\n",
       "    </tr>\n",
       "    <tr>\n",
       "      <th>...</th>\n",
       "      <td>...</td>\n",
       "      <td>...</td>\n",
       "      <td>...</td>\n",
       "    </tr>\n",
       "    <tr>\n",
       "      <th>2020-04-26 05:24:21.095000+00:00</th>\n",
       "      <td>-0.78</td>\n",
       "      <td>0.04</td>\n",
       "      <td>-9.30</td>\n",
       "    </tr>\n",
       "    <tr>\n",
       "      <th>2020-04-26 05:24:21.630000+00:00</th>\n",
       "      <td>-0.78</td>\n",
       "      <td>0.08</td>\n",
       "      <td>-9.26</td>\n",
       "    </tr>\n",
       "    <tr>\n",
       "      <th>2020-04-26 05:24:22.152000+00:00</th>\n",
       "      <td>-0.67</td>\n",
       "      <td>0.04</td>\n",
       "      <td>-9.34</td>\n",
       "    </tr>\n",
       "    <tr>\n",
       "      <th>2020-04-26 05:24:22.678000+00:00</th>\n",
       "      <td>-0.75</td>\n",
       "      <td>0.04</td>\n",
       "      <td>-9.38</td>\n",
       "    </tr>\n",
       "    <tr>\n",
       "      <th>2020-04-26 05:24:23.201000+00:00</th>\n",
       "      <td>-0.75</td>\n",
       "      <td>0.04</td>\n",
       "      <td>-9.30</td>\n",
       "    </tr>\n",
       "  </tbody>\n",
       "</table>\n",
       "<p>12927 rows × 3 columns</p>\n",
       "</div>"
      ],
      "text/plain": [
       "                                     x     y     z\n",
       "timestamp                                         \n",
       "2020-04-25 19:31:44.707000+00:00 -0.78  0.04 -9.41\n",
       "2020-04-25 19:31:45.241000+00:00 -0.67  0.08 -9.34\n",
       "2020-04-25 19:31:45.763000+00:00 -0.75  0.12 -9.34\n",
       "2020-04-25 19:31:46.298000+00:00 -0.75  0.08 -9.38\n",
       "2020-04-25 19:31:46.820000+00:00 -0.71  0.12 -9.30\n",
       "...                                ...   ...   ...\n",
       "2020-04-26 05:24:21.095000+00:00 -0.78  0.04 -9.30\n",
       "2020-04-26 05:24:21.630000+00:00 -0.78  0.08 -9.26\n",
       "2020-04-26 05:24:22.152000+00:00 -0.67  0.04 -9.34\n",
       "2020-04-26 05:24:22.678000+00:00 -0.75  0.04 -9.38\n",
       "2020-04-26 05:24:23.201000+00:00 -0.75  0.04 -9.30\n",
       "\n",
       "[12927 rows x 3 columns]"
      ]
     },
     "execution_count": 100,
     "metadata": {},
     "output_type": "execute_result"
    }
   ],
   "source": [
    "wr.df_accelerometerXyz.set_index('timestamp', inplace=True)\n",
    "wr.df_accelerometerXyz.drop('ROWID', axis=1, inplace=True)\n",
    "wr.df_accelerometerXyz"
   ]
  },
  {
   "cell_type": "code",
   "execution_count": 101,
   "metadata": {},
   "outputs": [
    {
     "data": {
      "text/plain": [
       "x    float64\n",
       "y    float64\n",
       "z    float64\n",
       "dtype: object"
      ]
     },
     "execution_count": 101,
     "metadata": {},
     "output_type": "execute_result"
    }
   ],
   "source": [
    "wr.df_accelerometerXyz.dtypes"
   ]
  },
  {
   "cell_type": "code",
   "execution_count": 102,
   "metadata": {},
   "outputs": [],
   "source": [
    "meanz = wr.df_accelerometerXyz.rolling(pd.Timedelta(milliseconds=15)).mean()"
   ]
  },
  {
   "cell_type": "code",
   "execution_count": 103,
   "metadata": {},
   "outputs": [
    {
     "data": {
      "text/plain": [
       "x    float64\n",
       "y    float64\n",
       "z    float64\n",
       "dtype: object"
      ]
     },
     "execution_count": 103,
     "metadata": {},
     "output_type": "execute_result"
    }
   ],
   "source": [
    "wr.df_accelerometerXyz\n",
    "wr.df_accelerometerXyz.dtypes"
   ]
  },
  {
   "cell_type": "code",
   "execution_count": 104,
   "metadata": {},
   "outputs": [
    {
     "data": {
      "text/html": [
       "<div>\n",
       "<style scoped>\n",
       "    .dataframe tbody tr th:only-of-type {\n",
       "        vertical-align: middle;\n",
       "    }\n",
       "\n",
       "    .dataframe tbody tr th {\n",
       "        vertical-align: top;\n",
       "    }\n",
       "\n",
       "    .dataframe thead th {\n",
       "        text-align: right;\n",
       "    }\n",
       "</style>\n",
       "<table border=\"1\" class=\"dataframe\">\n",
       "  <thead>\n",
       "    <tr style=\"text-align: right;\">\n",
       "      <th></th>\n",
       "      <th>x</th>\n",
       "      <th>y</th>\n",
       "      <th>z</th>\n",
       "    </tr>\n",
       "    <tr>\n",
       "      <th>timestamp</th>\n",
       "      <th></th>\n",
       "      <th></th>\n",
       "      <th></th>\n",
       "    </tr>\n",
       "  </thead>\n",
       "  <tbody>\n",
       "    <tr>\n",
       "      <th>2020-04-25 19:31:44.707000+00:00</th>\n",
       "      <td>-0.78</td>\n",
       "      <td>0.04</td>\n",
       "      <td>-9.41</td>\n",
       "    </tr>\n",
       "    <tr>\n",
       "      <th>2020-04-25 19:31:45.241000+00:00</th>\n",
       "      <td>-0.67</td>\n",
       "      <td>0.08</td>\n",
       "      <td>-9.34</td>\n",
       "    </tr>\n",
       "    <tr>\n",
       "      <th>2020-04-25 19:31:45.763000+00:00</th>\n",
       "      <td>-0.75</td>\n",
       "      <td>0.12</td>\n",
       "      <td>-9.34</td>\n",
       "    </tr>\n",
       "    <tr>\n",
       "      <th>2020-04-25 19:31:46.298000+00:00</th>\n",
       "      <td>-0.75</td>\n",
       "      <td>0.08</td>\n",
       "      <td>-9.38</td>\n",
       "    </tr>\n",
       "    <tr>\n",
       "      <th>2020-04-25 19:31:46.820000+00:00</th>\n",
       "      <td>-0.71</td>\n",
       "      <td>0.12</td>\n",
       "      <td>-9.30</td>\n",
       "    </tr>\n",
       "    <tr>\n",
       "      <th>...</th>\n",
       "      <td>...</td>\n",
       "      <td>...</td>\n",
       "      <td>...</td>\n",
       "    </tr>\n",
       "    <tr>\n",
       "      <th>2020-04-26 05:24:21.095000+00:00</th>\n",
       "      <td>-0.78</td>\n",
       "      <td>0.04</td>\n",
       "      <td>-9.30</td>\n",
       "    </tr>\n",
       "    <tr>\n",
       "      <th>2020-04-26 05:24:21.630000+00:00</th>\n",
       "      <td>-0.78</td>\n",
       "      <td>0.08</td>\n",
       "      <td>-9.26</td>\n",
       "    </tr>\n",
       "    <tr>\n",
       "      <th>2020-04-26 05:24:22.152000+00:00</th>\n",
       "      <td>-0.67</td>\n",
       "      <td>0.04</td>\n",
       "      <td>-9.34</td>\n",
       "    </tr>\n",
       "    <tr>\n",
       "      <th>2020-04-26 05:24:22.678000+00:00</th>\n",
       "      <td>-0.75</td>\n",
       "      <td>0.04</td>\n",
       "      <td>-9.38</td>\n",
       "    </tr>\n",
       "    <tr>\n",
       "      <th>2020-04-26 05:24:23.201000+00:00</th>\n",
       "      <td>-0.75</td>\n",
       "      <td>0.04</td>\n",
       "      <td>-9.30</td>\n",
       "    </tr>\n",
       "  </tbody>\n",
       "</table>\n",
       "<p>12927 rows × 3 columns</p>\n",
       "</div>"
      ],
      "text/plain": [
       "                                     x     y     z\n",
       "timestamp                                         \n",
       "2020-04-25 19:31:44.707000+00:00 -0.78  0.04 -9.41\n",
       "2020-04-25 19:31:45.241000+00:00 -0.67  0.08 -9.34\n",
       "2020-04-25 19:31:45.763000+00:00 -0.75  0.12 -9.34\n",
       "2020-04-25 19:31:46.298000+00:00 -0.75  0.08 -9.38\n",
       "2020-04-25 19:31:46.820000+00:00 -0.71  0.12 -9.30\n",
       "...                                ...   ...   ...\n",
       "2020-04-26 05:24:21.095000+00:00 -0.78  0.04 -9.30\n",
       "2020-04-26 05:24:21.630000+00:00 -0.78  0.08 -9.26\n",
       "2020-04-26 05:24:22.152000+00:00 -0.67  0.04 -9.34\n",
       "2020-04-26 05:24:22.678000+00:00 -0.75  0.04 -9.38\n",
       "2020-04-26 05:24:23.201000+00:00 -0.75  0.04 -9.30\n",
       "\n",
       "[12927 rows x 3 columns]"
      ]
     },
     "execution_count": 104,
     "metadata": {},
     "output_type": "execute_result"
    }
   ],
   "source": [
    "meanz"
   ]
  },
  {
   "cell_type": "code",
   "execution_count": null,
   "metadata": {},
   "outputs": [],
   "source": [
    " "
   ]
  }
 ],
 "metadata": {
  "kernelspec": {
   "display_name": "Django Shell-Plus",
   "language": "python",
   "name": "django_extensions"
  }
 },
 "nbformat": 4,
 "nbformat_minor": 2
}
