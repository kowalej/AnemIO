{
 "cells": [
  {
   "cell_type": "code",
   "execution_count": 115,
   "metadata": {},
   "outputs": [],
   "source": [
    "import os, sys\n",
    "sys.path.insert(0, 'D:\\Documents\\AnemIO\\src\\raspi-base\\web-server')\n",
    "os.environ.setdefault(\"DJANGO_SETTINGS_MODULE\", \"settingsfile\")\n",
    "os.environ.setdefault(\"DJANGO_ALLOW_ASYNC_UNSAFE\", \"true\")\n",
    "import django\n",
    "django.setup()"
   ]
  },
  {
   "cell_type": "code",
   "execution_count": 112,
   "metadata": {},
   "outputs": [],
   "source": [
    "from datetime import datetime, timedelta\n",
    "import station.models as models\n",
    "import pandas as pd\n",
    "from station.constants import REPORT_INSTANT_TIME_MS"
   ]
  },
  {
   "cell_type": "code",
   "execution_count": 113,
   "metadata": {},
   "outputs": [],
   "source": [
    "def get_num_periods(period, date_time_detla: timedelta):\n",
    "    if period == 'i':\n",
    "        return date_time_detla.total_seconds // (RADIO_SEND_INTERVAL_MS / 1000)\n",
    "    elif period == 'm':\n",
    "        return date_time_detla.total_seconds // 60\n",
    "    elif period == 'h':\n",
    "        return date_time_detla.total_seconds // (60*60)\n",
    "    elif period == 'd':\n",
    "        return date_time_detla.days\n",
    "    elif period == 'w':\n",
    "        return date_time_detla.days // 7\n",
    "\n",
    "\n",
    "class WeatherReport():\n",
    "    # Generate a report from start_date_time to end_date_time, with precision (timestep) of given period.\n",
    "    # Period can be one of 'i', 'm', 'h', 'd', 'w', 'M'. Instant, minute, hour, day, week, month.\n",
    "    # Instant means the smallest possible timestep (basically how often does the station send data, ~5 seconds).\n",
    "    # For example if you input 01-01-2019 as start_date_time and 12-31-2019 with period as 'd', you will\n",
    "    # recieve a series of daily values included highs, lows, and averages for various metrics for all of 2019.\n",
    "    # Note that exact calendar dates are not considered, meaning that (for example) if your start_date_time\n",
    "    # begins in the middle of a real calendar week, the measure of one week will start at that exact date time\n",
    "    # and jump to the middle of the next real calendar week (i.e. increment 7 days from your start_date_time).\n",
    "    def __init__(self, end_date_time: datetime, start_date_time: datetime, period='i'):\n",
    "        self.end_date_time = end_date_time\n",
    "        self.start_date_time = start_date_time\n",
    "        self.period = period\n",
    "        self.date_delta = end_date_time - start_date_time\n",
    "\n",
    "        if period in ['i', 'm', 'h']:\n",
    "            self.calc_from_raw()\n",
    "        elif period in ['d', 'w', 'm']:\n",
    "            self.calc_from_aggregate()\n",
    "        else:\n",
    "            raise Exception('Unsupported period: please use one of i, m, h, d, w, M.')\n",
    "\n",
    "    def calc_from_raw(self):\n",
    "        df_accelerometerXyz = pd.DataFrame(\n",
    "            list(\n",
    "                models.AccelerometerXyz\n",
    "                .objects\n",
    "                .filter(timestamp__gte=self.start_date_time)\n",
    "                .filter(timestamp__lte=self.end_date_time)\n",
    "                .values()\n",
    "            )\n",
    "        )\n",
    "        df_accelerometerXyz.rolling(5, win_type='boxcar').average()"
   ]
  },
  {
   "cell_type": "code",
   "execution_count": 114,
   "metadata": {},
   "outputs": [],
   "source": [
    "adb = os.getenv('ANEMIO_DB_NAME')\n",
    "adb"
   ]
  },
  {
   "cell_type": "code",
   "execution_count": null,
   "metadata": {},
   "outputs": [],
   "source": []
  },
  {
   "cell_type": "code",
   "execution_count": null,
   "metadata": {},
   "outputs": [],
   "source": []
  },
  {
   "cell_type": "code",
   "execution_count": null,
   "metadata": {},
   "outputs": [],
   "source": []
  }
 ],
 "metadata": {
  "kernelspec": {
   "display_name": "Python [conda env:.conda-anemioweb] *",
   "language": "python",
   "name": "conda-env-.conda-anemioweb-py"
  },
  "language_info": {
   "codemirror_mode": {
    "name": "ipython",
    "version": 3
   },
   "file_extension": ".py",
   "mimetype": "text/x-python",
   "name": "python",
   "nbconvert_exporter": "python",
   "pygments_lexer": "ipython3",
   "version": "3.7.7"
  }
 },
 "nbformat": 4,
 "nbformat_minor": 2
}
